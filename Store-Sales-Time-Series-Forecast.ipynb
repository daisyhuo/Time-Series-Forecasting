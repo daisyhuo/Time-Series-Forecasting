{
 "cells": [
  {
   "cell_type": "markdown",
   "metadata": {},
   "source": [
    "Store Sales - Time Series Forecasting"
   ]
  },
  {
   "cell_type": "markdown",
   "metadata": {},
   "source": [
    "Step 1: Import Libraries and Load Datasets"
   ]
  },
  {
   "cell_type": "code",
   "execution_count": 2,
   "metadata": {},
   "outputs": [
    {
     "name": "stdout",
     "output_type": "stream",
     "text": [
      "Train Data:\n",
      "            id  store_nbr      family  sales  onpromotion\n",
      "date                                                     \n",
      "2013-01-01   0          1  AUTOMOTIVE    0.0            0\n",
      "2013-01-01   1          1   BABY CARE    0.0            0\n",
      "2013-01-01   2          1      BEAUTY    0.0            0\n",
      "2013-01-01   3          1   BEVERAGES    0.0            0\n",
      "2013-01-01   4          1       BOOKS    0.0            0\n",
      "\n",
      "Stores Data:\n",
      "   store_nbr           city                           state type  cluster\n",
      "0          1          Quito                       Pichincha    D       13\n",
      "1          2          Quito                       Pichincha    D       13\n",
      "2          3          Quito                       Pichincha    D        8\n",
      "3          4          Quito                       Pichincha    D        9\n",
      "4          5  Santo Domingo  Santo Domingo de los Tsachilas    D        4\n",
      "\n",
      "Oil Data:\n",
      "        date  dcoilwtico\n",
      "0 2013-01-01         NaN\n",
      "1 2013-01-02       93.14\n",
      "2 2013-01-03       92.97\n",
      "3 2013-01-04       93.12\n",
      "4 2013-01-07       93.20\n",
      "\n",
      "Holidays Data:\n",
      "        date     type    locale locale_name                    description  \\\n",
      "0 2012-03-02  Holiday     Local       Manta             Fundacion de Manta   \n",
      "1 2012-04-01  Holiday  Regional    Cotopaxi  Provincializacion de Cotopaxi   \n",
      "2 2012-04-12  Holiday     Local      Cuenca            Fundacion de Cuenca   \n",
      "3 2012-04-14  Holiday     Local    Libertad      Cantonizacion de Libertad   \n",
      "4 2012-04-21  Holiday     Local    Riobamba      Cantonizacion de Riobamba   \n",
      "\n",
      "   transferred  \n",
      "0        False  \n",
      "1        False  \n",
      "2        False  \n",
      "3        False  \n",
      "4        False  \n"
     ]
    }
   ],
   "source": [
    "# Import necessary libraries\n",
    "import pandas as pd\n",
    "import numpy as np\n",
    "import matplotlib.pyplot as plt\n",
    "import seaborn as sns\n",
    "\n",
    "# Load datasets\n",
    "train = pd.read_csv('data/train.csv', parse_dates=['date'], index_col='date')\n",
    "stores = pd.read_csv('data/stores.csv')\n",
    "oil = pd.read_csv('data/oil.csv', parse_dates=['date'])\n",
    "holidays = pd.read_csv('data/holidays_events.csv', parse_dates=['date'])\n",
    "\n",
    "# Preview datasets\n",
    "print(\"Train Data:\")\n",
    "print(train.head())\n",
    "\n",
    "print(\"\\nStores Data:\")\n",
    "print(stores.head())\n",
    "print(\"\\nOil Data:\")\n",
    "print(oil.head())\n",
    "print(\"\\nHolidays Data:\")\n",
    "print(holidays.head())\n",
    "\n",
    "print(\"github commit.\")\n",
    "\n",
    "print(\"LOCAL TEST\")\n"
   ]
  }
 ],
 "metadata": {
  "kernelspec": {
   "display_name": "base",
   "language": "python",
   "name": "python3"
  },
  "language_info": {
   "codemirror_mode": {
    "name": "ipython",
    "version": 3
   },
   "file_extension": ".py",
   "mimetype": "text/x-python",
   "name": "python",
   "nbconvert_exporter": "python",
   "pygments_lexer": "ipython3",
   "version": "3.10.10"
  }
 },
 "nbformat": 4,
 "nbformat_minor": 2
}
